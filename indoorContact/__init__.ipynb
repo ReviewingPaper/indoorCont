{
 "cells": [
  {
   "cell_type": "code",
   "execution_count": null,
   "id": "ff2c1176-8540-4f0a-9290-d4b843380bda",
   "metadata": {},
   "outputs": [],
   "source": [
    "from .indoorContact import *"
   ]
  }
 ],
 "metadata": {
  "kernelspec": {
   "display_name": "Python 3 (ipykernel)",
   "language": "python",
   "name": "python3"
  },
  "language_info": {
   "codemirror_mode": {
    "name": "ipython",
    "version": 3
   },
   "file_extension": ".py",
   "mimetype": "text/x-python",
   "name": "python",
   "nbconvert_exporter": "python",
   "pygments_lexer": "ipython3",
   "version": "3.11.3"
  }
 },
 "nbformat": 4,
 "nbformat_minor": 5
}
